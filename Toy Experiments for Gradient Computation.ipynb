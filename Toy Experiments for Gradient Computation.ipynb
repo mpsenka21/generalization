{
 "cells": [
  {
   "cell_type": "code",
   "execution_count": 1,
   "metadata": {},
   "outputs": [],
   "source": [
    "import torch\n",
    "import torch.nn as nn\n",
    "from torch.autograd import Variable"
   ]
  },
  {
   "cell_type": "markdown",
   "metadata": {},
   "source": [
    "# 1. Does backpropping through a flatten work?"
   ]
  },
  {
   "cell_type": "code",
   "execution_count": 7,
   "metadata": {},
   "outputs": [],
   "source": [
    "x = Variable(torch.Tensor([1, 2, 3, 4]), requires_grad=True)\n",
    "\n",
    "z = x.reshape((2, 2))\n",
    "\n",
    "loss = torch.norm(z) * torch.norm(z)\n",
    "loss.backward()"
   ]
  },
  {
   "cell_type": "code",
   "execution_count": 8,
   "metadata": {},
   "outputs": [
    {
     "data": {
      "text/plain": [
       "tensor([2., 4., 6., 8.])"
      ]
     },
     "execution_count": 8,
     "metadata": {},
     "output_type": "execute_result"
    }
   ],
   "source": [
    "x.grad"
   ]
  },
  {
   "cell_type": "code",
   "execution_count": 10,
   "metadata": {},
   "outputs": [
    {
     "data": {
      "text/plain": [
       "tensor([[1., 2.],\n",
       "        [3., 4.]], grad_fn=<ViewBackward>)"
      ]
     },
     "execution_count": 10,
     "metadata": {},
     "output_type": "execute_result"
    }
   ],
   "source": [
    "z"
   ]
  },
  {
   "cell_type": "code",
   "execution_count": 11,
   "metadata": {},
   "outputs": [],
   "source": [
    "z.grad"
   ]
  },
  {
   "cell_type": "code",
   "execution_count": 12,
   "metadata": {},
   "outputs": [
    {
     "data": {
      "text/plain": [
       "torch.Size([4])"
      ]
     },
     "execution_count": 12,
     "metadata": {},
     "output_type": "execute_result"
    }
   ],
   "source": [
    "x.shape"
   ]
  },
  {
   "cell_type": "markdown",
   "metadata": {},
   "source": [
    "# 2. Computing Hessian-vector products"
   ]
  },
  {
   "cell_type": "code",
   "execution_count": 70,
   "metadata": {},
   "outputs": [
    {
     "data": {
      "text/plain": [
       "tensor(324.)"
      ]
     },
     "execution_count": 70,
     "metadata": {},
     "output_type": "execute_result"
    }
   ],
   "source": [
    "# setup for now:\n",
    "# f maps [n], [m] to [1], so Hessian is n x n or n x m or m x m depending on what's being done\n",
    "# Have a vector v, want to compute Hv\n",
    "\n",
    "def f(x, y):\n",
    "    return torch.sum(torch.pow(x, 3)) * torch.sum(torch.pow(y, 3))\n",
    "\n",
    "n = 4\n",
    "m = 3\n",
    "x = torch.Tensor(range(n))\n",
    "y = torch.Tensor(range(m))\n",
    "f(x, y)"
   ]
  },
  {
   "cell_type": "code",
   "execution_count": 71,
   "metadata": {},
   "outputs": [],
   "source": [
    "def hvp(g, x, y, v):\n",
    "    xvar = Variable(x, requires_grad=True)\n",
    "    yvar = Variable(y, requires_grad=True)\n",
    "    vvar = Variable(v, requires_grad=True)\n",
    "    \n",
    "    score = g(xvar, yvar)\n",
    "    \n",
    "    grad, = torch.autograd.grad(score, yvar, create_graph=True)\n",
    "    print(grad)\n",
    "    total = torch.sum(grad * vvar)\n",
    "    print(total)\n",
    "    \n",
    "    if xvar.grad:\n",
    "        xvar.grad.data.zero_()\n",
    "    if yvar.grad:\n",
    "        yvar.grad.data.zero_()\n",
    "    total.backward()\n",
    "    \n",
    "    if xvar.grad is not None:\n",
    "        return xvar.grad\n",
    "    else:\n",
    "        return torch.zeros(x.shape)"
   ]
  },
  {
   "cell_type": "code",
   "execution_count": 72,
   "metadata": {},
   "outputs": [
    {
     "name": "stdout",
     "output_type": "stream",
     "text": [
      "tensor([  0., 108., 432.], grad_fn=<MulBackward0>)\n",
      "tensor(108., grad_fn=<SumBackward0>)\n",
      "result tensor([ 0.,  9., 36., 81.])\n"
     ]
    }
   ],
   "source": [
    "v = torch.Tensor([2, 1, 0])\n",
    "print(\"result\", hvp(f, x, y, v))"
   ]
  },
  {
   "cell_type": "code",
   "execution_count": null,
   "metadata": {},
   "outputs": [],
   "source": [
    "# so this breaks when the Hessian doesn't survive somehow"
   ]
  },
  {
   "cell_type": "code",
   "execution_count": 1,
   "metadata": {},
   "outputs": [
    {
     "ename": "NameError",
     "evalue": "name 'torch' is not defined",
     "output_type": "error",
     "traceback": [
      "\u001b[0;31m---------------------------------------------------------------------------\u001b[0m",
      "\u001b[0;31mNameError\u001b[0m                                 Traceback (most recent call last)",
      "\u001b[0;32m<ipython-input-1-d0598faa39c8>\u001b[0m in \u001b[0;36m<module>\u001b[0;34m\u001b[0m\n\u001b[0;32m----> 1\u001b[0;31m \u001b[0mtorch\u001b[0m\u001b[0;34m.\u001b[0m\u001b[0mmax\u001b[0m\u001b[0;34m(\u001b[0m\u001b[0mlabels\u001b[0m\u001b[0;34m)\u001b[0m\u001b[0;34m.\u001b[0m\u001b[0mitem\u001b[0m\u001b[0;34m(\u001b[0m\u001b[0;34m)\u001b[0m\u001b[0;34m\u001b[0m\u001b[0m\n\u001b[0m",
      "\u001b[0;31mNameError\u001b[0m: name 'torch' is not defined"
     ]
    }
   ],
   "source": [
    "torch.max(labels).item()"
   ]
  },
  {
   "cell_type": "code",
   "execution_count": null,
   "metadata": {},
   "outputs": [],
   "source": []
  }
 ],
 "metadata": {
  "kernelspec": {
   "display_name": "Python 3",
   "language": "python",
   "name": "python3"
  },
  "language_info": {
   "codemirror_mode": {
    "name": "ipython",
    "version": 3
   },
   "file_extension": ".py",
   "mimetype": "text/x-python",
   "name": "python",
   "nbconvert_exporter": "python",
   "pygments_lexer": "ipython3",
   "version": "3.6.4"
  }
 },
 "nbformat": 4,
 "nbformat_minor": 2
}
